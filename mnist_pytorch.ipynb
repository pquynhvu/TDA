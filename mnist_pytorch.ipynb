{
  "nbformat": 4,
  "nbformat_minor": 0,
  "metadata": {
    "colab": {
      "provenance": [],
      "authorship_tag": "ABX9TyPC4NG5BUtDc5Et6Yd8DhKA",
      "include_colab_link": true
    },
    "kernelspec": {
      "name": "python3",
      "display_name": "Python 3"
    },
    "language_info": {
      "name": "python"
    }
  },
  "cells": [
    {
      "cell_type": "markdown",
      "metadata": {
        "id": "view-in-github",
        "colab_type": "text"
      },
      "source": [
        "<a href=\"https://colab.research.google.com/github/pquynhvu/TDA/blob/main/mnist_pytorch.ipynb\" target=\"_parent\"><img src=\"https://colab.research.google.com/assets/colab-badge.svg\" alt=\"Open In Colab\"/></a>"
      ]
    },
    {
      "cell_type": "code",
      "execution_count": 223,
      "metadata": {
        "id": "4r9tY6aFipjK"
      },
      "outputs": [],
      "source": [
        "import numpy as np  # linear algebra\n",
        "import pandas as pd # data processing\n",
        "import matplotlib.pyplot as plt\n",
        "%matplotlib inline\n",
        "import tensorflow as tf\n",
        "from tensorflow import keras\n",
        "from tensorflow.keras.datasets import mnist\n",
        "from tensorflow.keras import layers, models\n",
        "from tensorflow.keras.initializers import Constant\n",
        "from tensorflow.keras.utils import to_categorical\n",
        "from keras.models import Sequential\n",
        "from keras.layers import Dense, Dropout, Flatten, Conv2D, MaxPool2D\n",
        "from keras.optimizers import RMSprop,Adam\n",
        "from keras.callbacks import ReduceLROnPlateau\n",
        "import seaborn as sns\n",
        "from sklearn.metrics import confusion_matrix"
      ]
    },
    {
      "cell_type": "code",
      "source": [
        "# load data\n",
        "(x_train, y_train), (x_test, y_test) = mnist.load_data()\n",
        "# add color channel\n",
        "x_train = x_train.reshape((x_train.shape[0], x_train.shape[1], x_train.shape[2], 1))\n",
        "x_test = x_test.reshape((x_test.shape[0], x_test.shape[1], x_test.shape[2], 1))\n",
        "# normalize\n",
        "x_train, x_test = x_train/255.0, x_test/255.0\n",
        "# one-hot encoding\n",
        "label_train, label_test = to_categorical(y_train), to_categorical(y_test)"
      ],
      "metadata": {
        "id": "0F2c-EzXqbuk"
      },
      "execution_count": 214,
      "outputs": []
    },
    {
      "cell_type": "code",
      "source": [
        "num_row, num_col = 2, 5\n",
        "\n",
        "idx_10 = np.random.randint(low=0, high=x_train.shape[0], size=(num_row*num_col,)) # subset 10 figures\n",
        "x_train_10, y_train_10 = x_train[idx_10], y_train[idx_10]\n",
        "\n",
        "# visualize\n",
        "fig, axs = plt.subplots(num_row, num_col, figsize=(10, 5))\n",
        "for i, ax in enumerate(axs.flatten()):\n",
        "    ax.set_title(('Label: {}'.format(y_train_10[i])))\n",
        "    ax.imshow(x_train_10[i], cmap='gray')\n",
        "plt.tight_layout()\n",
        "plt.show()"
      ],
      "metadata": {
        "id": "GWsuI2PA1gQf",
        "outputId": "1b360114-a81c-40cc-c9c2-2041b50a7cee",
        "colab": {
          "base_uri": "https://localhost:8080/",
          "height": 480
        }
      },
      "execution_count": 215,
      "outputs": [
        {
          "output_type": "display_data",
          "data": {
            "text/plain": [
              "<Figure size 1000x500 with 10 Axes>"
            ],
            "image/png": "[encoded data removed]"
          },
          "metadata": {}
        }
      ]
    },
    {
      "cell_type": "code",
      "source": [
        "x_train_sampled = x_train[:1000]\n",
        "x_test_sampled = x_test[:250]\n",
        "label_train_sampled = label_train[:1000]\n",
        "label_test_sampled = label_test[:250]\n",
        "\n",
        "num_filter_1st = 5\n",
        "num_filter_2nd = 10\n",
        "iter = 1000"
      ],
      "metadata": {
        "id": "SetYZKLF1jlD"
      },
      "execution_count": 324,
      "outputs": []
    },
    {
      "cell_type": "code",
      "source": [
        "mnist_cnn = models.Sequential() # initialize model\n",
        "mnist_cnn.add(Conv2D(filters = num_filter_1st,\n",
        "                     kernel_size = (3,3),\n",
        "                     padding = 'same',\n",
        "                     strides=1,\n",
        "                     bias_initializer=Constant(0.2),\n",
        "                     activation=\"relu\",\n",
        "                     input_shape = (28,28,1)))\n",
        "mnist_cnn.add(MaxPool2D(pool_size=(2,2)))\n",
        "mnist_cnn.add(Conv2D(filters = num_filter_2nd,\n",
        "                     kernel_size = (2,2),\n",
        "                     padding = 'Same',\n",
        "                     strides=1,\n",
        "                     activation ='relu'))\n",
        "mnist_cnn.add(MaxPool2D(pool_size=(2,2), strides=(1,1)))\n",
        "mnist_cnn.compile(optimizer = \"sgd\", loss = \"categorical_crossentropy\", metrics=[\"accuracy\"])\n",
        "mnist_cnn.summary()"
      ],
      "metadata": {
        "id": "hTf4G9s027FI",
        "colab": {
          "base_uri": "https://localhost:8080/",
          "height": 319
        },
        "outputId": "644f8049-3a36-4845-ef0a-a36989ee2c15"
      },
      "execution_count": 331,
      "outputs": [
        {
          "output_type": "stream",
          "name": "stderr",
          "text": [
            "/usr/local/lib/python3.11/dist-packages/keras/src/layers/convolutional/base_conv.py:107: UserWarning: Do not pass an `input_shape`/`input_dim` argument to a layer. When using Sequential models, prefer using an `Input(shape)` object as the first layer in the model instead.\n",
            "  super().__init__(activity_regularizer=activity_regularizer, **kwargs)\n"
          ]
        },
        {
          "output_type": "display_data",
          "data": {
            "text/plain": [
              "\u001b[1mModel: \"sequential_73\"\u001b[0m\n"
            ],
            "text/html": [
              "<pre style=\"white-space:pre;overflow-x:auto;line-height:normal;font-family:Menlo,'DejaVu Sans Mono',consolas,'Courier New',monospace\"><span style=\"font-weight: bold\">Model: \"sequential_73\"</span>\n",
              "</pre>\n"
            ]
          },
          "metadata": {}
        },
        {
          "output_type": "display_data",
          "data": {
            "text/plain": [
              "┏━━━━━━━━━━━━━━━━━━━━━━━━━━━━━━━━━━━━━━┳━━━━━━━━━━━━━━━━━━━━━━━━━━━━━┳━━━━━━━━━━━━━━━━━┓\n",
              "┃\u001b[1m \u001b[0m\u001b[1mLayer (type)                        \u001b[0m\u001b[1m \u001b[0m┃\u001b[1m \u001b[0m\u001b[1mOutput Shape               \u001b[0m\u001b[1m \u001b[0m┃\u001b[1m \u001b[0m\u001b[1m        Param #\u001b[0m\u001b[1m \u001b[0m┃\n",
              "┡━━━━━━━━━━━━━━━━━━━━━━━━━━━━━━━━━━━━━━╇━━━━━━━━━━━━━━━━━━━━━━━━━━━━━╇━━━━━━━━━━━━━━━━━┩\n",
              "│ conv2d_96 (\u001b[38;5;33mConv2D\u001b[0m)                   │ (\u001b[38;5;45mNone\u001b[0m, \u001b[38;5;34m28\u001b[0m, \u001b[38;5;34m28\u001b[0m, \u001b[38;5;34m5\u001b[0m)           │              \u001b[38;5;34m50\u001b[0m │\n",
              "├──────────────────────────────────────┼─────────────────────────────┼─────────────────┤\n",
              "│ max_pooling2d_67 (\u001b[38;5;33mMaxPooling2D\u001b[0m)      │ (\u001b[38;5;45mNone\u001b[0m, \u001b[38;5;34m14\u001b[0m, \u001b[38;5;34m14\u001b[0m, \u001b[38;5;34m5\u001b[0m)           │               \u001b[38;5;34m0\u001b[0m │\n",
              "├──────────────────────────────────────┼─────────────────────────────┼─────────────────┤\n",
              "│ conv2d_97 (\u001b[38;5;33mConv2D\u001b[0m)                   │ (\u001b[38;5;45mNone\u001b[0m, \u001b[38;5;34m14\u001b[0m, \u001b[38;5;34m14\u001b[0m, \u001b[38;5;34m10\u001b[0m)          │             \u001b[38;5;34m210\u001b[0m │\n",
              "├──────────────────────────────────────┼─────────────────────────────┼─────────────────┤\n",
              "│ max_pooling2d_68 (\u001b[38;5;33mMaxPooling2D\u001b[0m)      │ (\u001b[38;5;45mNone\u001b[0m, \u001b[38;5;34m13\u001b[0m, \u001b[38;5;34m13\u001b[0m, \u001b[38;5;34m10\u001b[0m)          │               \u001b[38;5;34m0\u001b[0m │\n",
              "└──────────────────────────────────────┴─────────────────────────────┴─────────────────┘\n"
            ],
            "text/html": [
              "<pre style=\"white-space:pre;overflow-x:auto;line-height:normal;font-family:Menlo,'DejaVu Sans Mono',consolas,'Courier New',monospace\">┏━━━━━━━━━━━━━━━━━━━━━━━━━━━━━━━━━━━━━━┳━━━━━━━━━━━━━━━━━━━━━━━━━━━━━┳━━━━━━━━━━━━━━━━━┓\n",
              "┃<span style=\"font-weight: bold\"> Layer (type)                         </span>┃<span style=\"font-weight: bold\"> Output Shape                </span>┃<span style=\"font-weight: bold\">         Param # </span>┃\n",
              "┡━━━━━━━━━━━━━━━━━━━━━━━━━━━━━━━━━━━━━━╇━━━━━━━━━━━━━━━━━━━━━━━━━━━━━╇━━━━━━━━━━━━━━━━━┩\n",
              "│ conv2d_96 (<span style=\"color: #0087ff; text-decoration-color: #0087ff\">Conv2D</span>)                   │ (<span style=\"color: #00d7ff; text-decoration-color: #00d7ff\">None</span>, <span style=\"color: #00af00; text-decoration-color: #00af00\">28</span>, <span style=\"color: #00af00; text-decoration-color: #00af00\">28</span>, <span style=\"color: #00af00; text-decoration-color: #00af00\">5</span>)           │              <span style=\"color: #00af00; text-decoration-color: #00af00\">50</span> │\n",
              "├──────────────────────────────────────┼─────────────────────────────┼─────────────────┤\n",
              "│ max_pooling2d_67 (<span style=\"color: #0087ff; text-decoration-color: #0087ff\">MaxPooling2D</span>)      │ (<span style=\"color: #00d7ff; text-decoration-color: #00d7ff\">None</span>, <span style=\"color: #00af00; text-decoration-color: #00af00\">14</span>, <span style=\"color: #00af00; text-decoration-color: #00af00\">14</span>, <span style=\"color: #00af00; text-decoration-color: #00af00\">5</span>)           │               <span style=\"color: #00af00; text-decoration-color: #00af00\">0</span> │\n",
              "├──────────────────────────────────────┼─────────────────────────────┼─────────────────┤\n",
              "│ conv2d_97 (<span style=\"color: #0087ff; text-decoration-color: #0087ff\">Conv2D</span>)                   │ (<span style=\"color: #00d7ff; text-decoration-color: #00d7ff\">None</span>, <span style=\"color: #00af00; text-decoration-color: #00af00\">14</span>, <span style=\"color: #00af00; text-decoration-color: #00af00\">14</span>, <span style=\"color: #00af00; text-decoration-color: #00af00\">10</span>)          │             <span style=\"color: #00af00; text-decoration-color: #00af00\">210</span> │\n",
              "├──────────────────────────────────────┼─────────────────────────────┼─────────────────┤\n",
              "│ max_pooling2d_68 (<span style=\"color: #0087ff; text-decoration-color: #0087ff\">MaxPooling2D</span>)      │ (<span style=\"color: #00d7ff; text-decoration-color: #00d7ff\">None</span>, <span style=\"color: #00af00; text-decoration-color: #00af00\">13</span>, <span style=\"color: #00af00; text-decoration-color: #00af00\">13</span>, <span style=\"color: #00af00; text-decoration-color: #00af00\">10</span>)          │               <span style=\"color: #00af00; text-decoration-color: #00af00\">0</span> │\n",
              "└──────────────────────────────────────┴─────────────────────────────┴─────────────────┘\n",
              "</pre>\n"
            ]
          },
          "metadata": {}
        },
        {
          "output_type": "display_data",
          "data": {
            "text/plain": [
              "\u001b[1m Total params: \u001b[0m\u001b[38;5;34m260\u001b[0m (1.02 KB)\n"
            ],
            "text/html": [
              "<pre style=\"white-space:pre;overflow-x:auto;line-height:normal;font-family:Menlo,'DejaVu Sans Mono',consolas,'Courier New',monospace\"><span style=\"font-weight: bold\"> Total params: </span><span style=\"color: #00af00; text-decoration-color: #00af00\">260</span> (1.02 KB)\n",
              "</pre>\n"
            ]
          },
          "metadata": {}
        },
        {
          "output_type": "display_data",
          "data": {
            "text/plain": [
              "\u001b[1m Trainable params: \u001b[0m\u001b[38;5;34m260\u001b[0m (1.02 KB)\n"
            ],
            "text/html": [
              "<pre style=\"white-space:pre;overflow-x:auto;line-height:normal;font-family:Menlo,'DejaVu Sans Mono',consolas,'Courier New',monospace\"><span style=\"font-weight: bold\"> Trainable params: </span><span style=\"color: #00af00; text-decoration-color: #00af00\">260</span> (1.02 KB)\n",
              "</pre>\n"
            ]
          },
          "metadata": {}
        },
        {
          "output_type": "display_data",
          "data": {
            "text/plain": [
              "\u001b[1m Non-trainable params: \u001b[0m\u001b[38;5;34m0\u001b[0m (0.00 B)\n"
            ],
            "text/html": [
              "<pre style=\"white-space:pre;overflow-x:auto;line-height:normal;font-family:Menlo,'DejaVu Sans Mono',consolas,'Courier New',monospace\"><span style=\"font-weight: bold\"> Non-trainable params: </span><span style=\"color: #00af00; text-decoration-color: #00af00\">0</span> (0.00 B)\n",
              "</pre>\n"
            ]
          },
          "metadata": {}
        }
      ]
    },
    {
      "cell_type": "code",
      "source": [
        "x_pred = mnist_cnn.predict(x_train_sampled, batch_size=None, verbose=\"1\", steps=iter, callbacks=None)\n",
        "y_pred = mnist_cnn.predict_classes(x_pred, axis=1)"
      ],
      "metadata": {
        "id": "JF2LmmFVH2Er"
      },
      "execution_count": null,
      "outputs": []
    },
    {
      "cell_type": "code",
      "source": [
        "y_pred[9]"
      ],
      "metadata": {
        "id": "liD6spyAIBnV",
        "outputId": "3321a4f1-a0c4-449d-b5d3-be3d8487007a",
        "colab": {
          "base_uri": "https://localhost:8080/"
        }
      },
      "execution_count": 346,
      "outputs": [
        {
          "output_type": "execute_result",
          "data": {
            "text/plain": [
              "array([ 4,  0,  0,  0,  4,  4,  1,  6, 12,  0])"
            ]
          },
          "metadata": {},
          "execution_count": 346
        }
      ]
    },
    {
      "cell_type": "code",
      "source": [
        "idx_sampled = 500\n",
        "plt.subplot(2, 2, 1)\n",
        "plt.imshow(x_train_sampled[idx_sampled])\n",
        "plt.subplot(2, 2, 2)\n",
        "x_pred[idx_sampled,:,:,5]"
      ],
      "metadata": {
        "id": "rmjWTYCa6VF1",
        "outputId": "7e43e452-4a61-434b-f3b5-f9a5f7a528cf",
        "colab": {
          "base_uri": "https://localhost:8080/",
          "height": 911
        }
      },
      "execution_count": 330,
      "outputs": [
        {
          "output_type": "execute_result",
          "data": {
            "text/plain": [
              "array([[0.00589178, 0.03154859, 0.05663725, 0.05663725, 0.05777264,\n",
              "        0.05777264, 0.01209855, 0.00589178, 0.00589178, 0.00589178,\n",
              "        0.00589178, 0.00589178, 0.1596234 ],\n",
              "       [0.00589178, 0.11259629, 0.11291169, 0.21212648, 0.21212648,\n",
              "        0.19457899, 0.19457899, 0.14300452, 0.02453539, 0.00613509,\n",
              "        0.00589178, 0.00589178, 0.1596234 ],\n",
              "       [0.00589178, 0.11259629, 0.24507424, 0.24507424, 0.24146853,\n",
              "        0.19457899, 0.19457899, 0.14300452, 0.10561203, 0.10561203,\n",
              "        0.00589178, 0.00589178, 0.1596234 ],\n",
              "       [0.00589178, 0.04246663, 0.24507424, 0.24507424, 0.24146853,\n",
              "        0.20312524, 0.20312524, 0.35652456, 0.35652456, 0.17894109,\n",
              "        0.04265531, 0.00589178, 0.1596234 ],\n",
              "       [0.00589178, 0.0027337 , 0.18117523, 0.2341    , 0.2341    ,\n",
              "        0.20312524, 0.20312524, 0.4513766 , 0.4513766 , 0.353268  ,\n",
              "        0.04265531, 0.00589178, 0.1596234 ],\n",
              "       [0.00589178, 0.00589178, 0.00589178, 0.07746056, 0.07746056,\n",
              "        0.05407183, 0.01493069, 0.4513766 , 0.4513766 , 0.353268  ,\n",
              "        0.05655145, 0.00589178, 0.1596234 ],\n",
              "       [0.00589178, 0.00589178, 0.00589178, 0.00589178, 0.00589178,\n",
              "        0.05702594, 0.22156388, 0.22729427, 0.3390065 , 0.3390065 ,\n",
              "        0.05655145, 0.00589178, 0.1596234 ],\n",
              "       [0.00589178, 0.00589178, 0.00589178, 0.00589178, 0.08731966,\n",
              "        0.19331321, 0.22156388, 0.2809821 , 0.2809821 , 0.17151907,\n",
              "        0.03718803, 0.00589178, 0.1596234 ],\n",
              "       [0.00589178, 0.00589178, 0.00589178, 0.00589178, 0.08731966,\n",
              "        0.19560437, 0.2719115 , 0.2809821 , 0.2809821 , 0.16435185,\n",
              "        0.011759  , 0.00589178, 0.1596234 ],\n",
              "       [0.00589178, 0.00589178, 0.00589178, 0.00589178, 0.        ,\n",
              "        0.19560437, 0.2719115 , 0.27420545, 0.27420545, 0.16435185,\n",
              "        0.1203342 , 0.00589178, 0.1596234 ],\n",
              "       [0.00589178, 0.00589178, 0.00589178, 0.00589178, 0.00589178,\n",
              "        0.00246343, 0.18241243, 0.27420545, 0.38595638, 0.38595638,\n",
              "        0.16378933, 0.00589178, 0.1596234 ],\n",
              "       [0.00589178, 0.00589178, 0.00589178, 0.00589178, 0.00589178,\n",
              "        0.00589178, 0.00589178, 0.19826671, 0.38595638, 0.38595638,\n",
              "        0.16791424, 0.00589178, 0.1596234 ],\n",
              "       [0.04908172, 0.04908172, 0.04908172, 0.04908172, 0.04908172,\n",
              "        0.04908172, 0.04908172, 0.01826097, 0.30980232, 0.30980232,\n",
              "        0.16791424, 0.04908172, 0.1596234 ]], dtype=float32)"
            ]
          },
          "metadata": {},
          "execution_count": 330
        },
        {
          "output_type": "display_data",
          "data": {
            "text/plain": [
              "<Figure size 640x480 with 2 Axes>"
            ],
            "image/png": "[encoded data removed]"
          },
          "metadata": {}
        }
      ]
    }
  ]
}